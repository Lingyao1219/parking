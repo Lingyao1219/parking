{
 "cells": [
  {
   "cell_type": "code",
   "execution_count": 1,
   "id": "3ad1d0e2",
   "metadata": {},
   "outputs": [],
   "source": [
    "import torch\n",
    "import pandas as pd\n",
    "\n",
    "from sklearn.metrics import accuracy_score\n",
    "from sklearn.metrics import classification_report"
   ]
  },
  {
   "cell_type": "code",
   "execution_count": 2,
   "id": "2cab95bd",
   "metadata": {},
   "outputs": [],
   "source": [
    "import warnings\n",
    "warnings.filterwarnings('ignore')"
   ]
  },
  {
   "cell_type": "code",
   "execution_count": 3,
   "id": "1c490a04",
   "metadata": {},
   "outputs": [],
   "source": [
    "df = pd.read_csv('training_samples.csv')\n",
    "df['label'] = df['label'].str.lower()\n",
    "test_df = df[1600:]\n",
    "X_test = test_df['text']\n",
    "y_test = test_df['label']"
   ]
  },
  {
   "cell_type": "markdown",
   "id": "6cc968b2",
   "metadata": {},
   "source": [
    "### 1. Vader Sentiment"
   ]
  },
  {
   "cell_type": "code",
   "execution_count": 4,
   "id": "68f1a3b5",
   "metadata": {},
   "outputs": [],
   "source": [
    "from vaderSentiment.vaderSentiment import SentimentIntensityAnalyzer\n",
    "\n",
    "analyser = SentimentIntensityAnalyzer()\n",
    "\n",
    "def vader_sentiment(text):\n",
    "    sentiment = analyser.polarity_scores(text)\n",
    "    sentiment = sentiment['compound']\n",
    "    if sentiment <= -0.05:\n",
    "        return 'negative'\n",
    "    elif sentiment > -0.05 and sentiment < 0.05:\n",
    "        return 'neutral'\n",
    "    elif sentiment >= 0.05:\n",
    "        return 'positive'"
   ]
  },
  {
   "cell_type": "code",
   "execution_count": 5,
   "id": "b1e9f1fe",
   "metadata": {},
   "outputs": [
    {
     "name": "stdout",
     "output_type": "stream",
     "text": [
      "test accuracy: 55.75%\n",
      "              precision    recall  f1-score   support\n",
      "\n",
      "    negative       0.86      0.50      0.64       165\n",
      "     neutral       0.07      0.42      0.11        19\n",
      "    positive       0.73      0.69      0.71       190\n",
      "   unrelated       0.00      0.00      0.00        26\n",
      "\n",
      "    accuracy                           0.56       400\n",
      "   macro avg       0.41      0.40      0.36       400\n",
      "weighted avg       0.70      0.56      0.60       400\n",
      "\n"
     ]
    }
   ],
   "source": [
    "labels = ['negative', 'neutral', 'positive', 'unrelated']\n",
    "\n",
    "test_df['vader_sentiment'] = test_df['text'].apply(vader_sentiment)\n",
    "y_pred = test_df['vader_sentiment']\n",
    "print(\"test accuracy: %.2f%%\" % (accuracy_score(y_pred, y_test)*100))\n",
    "print(classification_report(y_test, y_pred, target_names=labels))"
   ]
  },
  {
   "cell_type": "markdown",
   "id": "1f08ac0b",
   "metadata": {},
   "source": [
    "### 2. RoBERTa-based sentiment"
   ]
  },
  {
   "cell_type": "code",
   "execution_count": 6,
   "id": "858a987e",
   "metadata": {},
   "outputs": [
    {
     "name": "stderr",
     "output_type": "stream",
     "text": [
      "Some weights of the model checkpoint at cardiffnlp/twitter-roberta-base-sentiment-latest were not used when initializing RobertaForSequenceClassification: ['roberta.pooler.dense.bias', 'roberta.pooler.dense.weight']\n",
      "- This IS expected if you are initializing RobertaForSequenceClassification from the checkpoint of a model trained on another task or with another architecture (e.g. initializing a BertForSequenceClassification model from a BertForPreTraining model).\n",
      "- This IS NOT expected if you are initializing RobertaForSequenceClassification from the checkpoint of a model that you expect to be exactly identical (initializing a BertForSequenceClassification model from a BertForSequenceClassification model).\n"
     ]
    }
   ],
   "source": [
    "from transformers import AutoTokenizer\n",
    "from transformers import AutoModelForSequenceClassification\n",
    "from scipy.special import softmax\n",
    "\n",
    "#Load the pre-trained model\n",
    "MODEL = f\"cardiffnlp/twitter-roberta-base-sentiment-latest\"\n",
    "tokenizer = AutoTokenizer.from_pretrained(MODEL)\n",
    "model = AutoModelForSequenceClassification.from_pretrained(MODEL)\n",
    "\n",
    "def roberta_polarity_scores(text):\n",
    "    encoded_text = tokenizer(text, return_tensors='pt')\n",
    "    output = model(**encoded_text)\n",
    "    scores = output[0][0].detach().numpy()\n",
    "    scores = softmax(scores)\n",
    "    scores_dict = {\n",
    "        'negative': scores[0],\n",
    "        'neutral': scores[1],\n",
    "        'positive': scores[2]\n",
    "    }\n",
    "    return scores_dict\n",
    "\n",
    "def roberta_sentiment(text):\n",
    "    try:\n",
    "        scores_dict = roberta_polarity_scores(text)\n",
    "        sentiment = max(scores_dict, key=scores_dict.get)\n",
    "        return sentiment\n",
    "    except:\n",
    "        return \"\""
   ]
  },
  {
   "cell_type": "code",
   "execution_count": 7,
   "id": "4a49914a",
   "metadata": {},
   "outputs": [
    {
     "name": "stdout",
     "output_type": "stream",
     "text": [
      "test accuracy: 62.00%\n",
      "              precision    recall  f1-score   support\n",
      "\n",
      "    negative       0.90      0.65      0.75       165\n",
      "     neutral       0.12      0.84      0.21        19\n",
      "    positive       0.87      0.66      0.75       190\n",
      "   unrelated       0.00      0.00      0.00        26\n",
      "\n",
      "    accuracy                           0.62       400\n",
      "   macro avg       0.47      0.54      0.43       400\n",
      "weighted avg       0.79      0.62      0.68       400\n",
      "\n"
     ]
    }
   ],
   "source": [
    "labels = ['negative', 'neutral', 'positive', 'unrelated']\n",
    "\n",
    "test_df['roberta_sentiment'] = test_df['text'].apply(roberta_sentiment)\n",
    "y_pred = test_df['roberta_sentiment']\n",
    "print(\"test accuracy: %.2f%%\" % (accuracy_score(y_pred, y_test)*100))\n",
    "print(classification_report(y_test, y_pred, target_names=labels))\n"
   ]
  }
 ],
 "metadata": {
  "kernelspec": {
   "display_name": "Python 3 (ipykernel)",
   "language": "python",
   "name": "python3"
  },
  "language_info": {
   "codemirror_mode": {
    "name": "ipython",
    "version": 3
   },
   "file_extension": ".py",
   "mimetype": "text/x-python",
   "name": "python",
   "nbconvert_exporter": "python",
   "pygments_lexer": "ipython3",
   "version": "3.10.6"
  }
 },
 "nbformat": 4,
 "nbformat_minor": 5
}
