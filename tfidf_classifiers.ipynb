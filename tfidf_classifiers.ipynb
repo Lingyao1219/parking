{
 "cells": [
  {
   "cell_type": "code",
   "execution_count": 1,
   "metadata": {},
   "outputs": [],
   "source": [
    "import pandas as pd\n",
    "import matplotlib.pyplot as plt\n",
    "\n",
    "from sklearn.feature_extraction.text import CountVectorizer, TfidfVectorizer\n",
    "from sklearn.metrics import accuracy_score, confusion_matrix\n",
    "from sklearn.metrics import classification_report\n",
    "from sklearn.pipeline import Pipeline\n",
    "from sklearn.model_selection import GridSearchCV\n",
    "from sklearn.feature_extraction.text import TfidfTransformer"
   ]
  },
  {
   "cell_type": "code",
   "execution_count": 2,
   "metadata": {},
   "outputs": [],
   "source": [
    "import warnings\n",
    "warnings.filterwarnings('ignore')"
   ]
  },
  {
   "cell_type": "code",
   "execution_count": 3,
   "metadata": {},
   "outputs": [
    {
     "data": {
      "text/html": [
       "<div>\n",
       "<style scoped>\n",
       "    .dataframe tbody tr th:only-of-type {\n",
       "        vertical-align: middle;\n",
       "    }\n",
       "\n",
       "    .dataframe tbody tr th {\n",
       "        vertical-align: top;\n",
       "    }\n",
       "\n",
       "    .dataframe thead th {\n",
       "        text-align: right;\n",
       "    }\n",
       "</style>\n",
       "<table border=\"1\" class=\"dataframe\">\n",
       "  <thead>\n",
       "    <tr style=\"text-align: right;\">\n",
       "      <th></th>\n",
       "      <th>text</th>\n",
       "      <th>label</th>\n",
       "    </tr>\n",
       "  </thead>\n",
       "  <tbody>\n",
       "    <tr>\n",
       "      <th>0</th>\n",
       "      <td>Lots of parking. Lots nice hotels in the area ...</td>\n",
       "      <td>1</td>\n",
       "    </tr>\n",
       "    <tr>\n",
       "      <th>1</th>\n",
       "      <td>The one thing I want to caution is bring wood ...</td>\n",
       "      <td>2</td>\n",
       "    </tr>\n",
       "    <tr>\n",
       "      <th>2</th>\n",
       "      <td>Very little and very expensive parking, and th...</td>\n",
       "      <td>-1</td>\n",
       "    </tr>\n",
       "    <tr>\n",
       "      <th>3</th>\n",
       "      <td>This property ruined my birthday weekend with ...</td>\n",
       "      <td>-1</td>\n",
       "    </tr>\n",
       "    <tr>\n",
       "      <th>4</th>\n",
       "      <td>We returned to the parking area and sat on som...</td>\n",
       "      <td>2</td>\n",
       "    </tr>\n",
       "  </tbody>\n",
       "</table>\n",
       "</div>"
      ],
      "text/plain": [
       "                                                text  label\n",
       "0  Lots of parking. Lots nice hotels in the area ...      1\n",
       "1  The one thing I want to caution is bring wood ...      2\n",
       "2  Very little and very expensive parking, and th...     -1\n",
       "3  This property ruined my birthday weekend with ...     -1\n",
       "4  We returned to the parking area and sat on som...      2"
      ]
     },
     "execution_count": 3,
     "metadata": {},
     "output_type": "execute_result"
    }
   ],
   "source": [
    "df = pd.read_csv('training_samples.csv')\n",
    "df['label'] = df['label'].str.lower()\n",
    "value_map = {'positive': 1, 'negative': -1, 'neutral': 0, 'unrelated': 2}\n",
    "df['label'] = df['label'].map(value_map)\n",
    "df.head(5)"
   ]
  },
  {
   "cell_type": "code",
   "execution_count": 4,
   "metadata": {},
   "outputs": [
    {
     "data": {
      "text/plain": [
       "<Axes: xlabel='label'>"
      ]
     },
     "execution_count": 4,
     "metadata": {},
     "output_type": "execute_result"
    },
    {
     "data": {
      "image/png": "[encoded data removed]",
      "text/plain": [
       "<Figure size 600x300 with 1 Axes>"
      ]
     },
     "metadata": {},
     "output_type": "display_data"
    }
   ],
   "source": [
    "plt.figure(figsize=(6,3))\n",
    "df['label'].value_counts().plot(kind='bar')"
   ]
  },
  {
   "cell_type": "code",
   "execution_count": 5,
   "metadata": {},
   "outputs": [],
   "source": [
    "# Split samples for training set (80%) and testing set (20%)\n",
    "\n",
    "labels = ['negative', 'neutral', 'positive', 'unrelated']\n",
    "\n",
    "train_df = df[:1600]\n",
    "X_train = train_df['text']\n",
    "y_train = train_df['label']\n",
    "\n",
    "test_df = df[1600:]\n",
    "X_test = test_df['text']\n",
    "y_test = test_df['label']"
   ]
  },
  {
   "cell_type": "markdown",
   "metadata": {},
   "source": [
    "### 1. TF-IDF + RF"
   ]
  },
  {
   "cell_type": "code",
   "execution_count": 6,
   "metadata": {},
   "outputs": [
    {
     "name": "stdout",
     "output_type": "stream",
     "text": [
      "best parameters are: {'clf__max_depth': 100, 'clf__min_samples_leaf': 1, 'clf__n_estimators': 300}\n",
      "train accuracy: 99.94%\n",
      "test accuracy: 71.50%\n",
      "              precision    recall  f1-score   support\n",
      "\n",
      "    negative       0.64      0.84      0.73       165\n",
      "     neutral       1.00      0.05      0.10        19\n",
      "    positive       0.80      0.77      0.79       190\n",
      "   unrelated       0.00      0.00      0.00        26\n",
      "\n",
      "    accuracy                           0.71       400\n",
      "   macro avg       0.61      0.42      0.40       400\n",
      "weighted avg       0.69      0.71      0.68       400\n",
      "\n"
     ]
    }
   ],
   "source": [
    "from sklearn.ensemble import RandomForestClassifier\n",
    "\n",
    "# Define the pipeline with RandomForestClassifier\n",
    "pipeline = Pipeline(steps=[\n",
    "    ('vect', CountVectorizer()),\n",
    "    ('tfidf', TfidfTransformer()),\n",
    "    ('clf', RandomForestClassifier(class_weight='balanced', random_state=66))\n",
    "])\n",
    "\n",
    "# Define the parameters grid\n",
    "parameters = [{\n",
    "    'clf__n_estimators': [100, 200, 300, 400],  # Number of trees\n",
    "    'clf__max_depth': [10, 20, 40, 80, 100, 120],  # Maximum depth of trees\n",
    "    'clf__min_samples_leaf': [1, 2, 4]  # Minimum number of samples required to be at a leaf node\n",
    "}]\n",
    "\n",
    "# Perform grid search\n",
    "rf_cv = GridSearchCV(pipeline, parameters, cv=10)\n",
    "rf_cv.fit(X_train, y_train)\n",
    "\n",
    "# Get the best parameters and accuracy\n",
    "best_params = rf_cv.best_params_\n",
    "best_accuracy = rf_cv.best_score_\n",
    "print(\"best parameters are: %s\" % best_params)\n",
    "\n",
    "# Train the final model using the best parameters\n",
    "rf = Pipeline([\n",
    "    ('vect', CountVectorizer()),\n",
    "    ('tfidf', TfidfTransformer()),\n",
    "    ('clf', RandomForestClassifier(n_estimators=best_params['clf__n_estimators'], \n",
    "                                   max_depth=best_params['clf__max_depth'], \n",
    "                                   min_samples_leaf=best_params['clf__min_samples_leaf'], \n",
    "                                   class_weight='balanced', \n",
    "                                   random_state=66))\n",
    "])\n",
    "rf = rf.fit(X_train, y_train)\n",
    "\n",
    "# Predict on the training and testing set\n",
    "y_trad = rf.predict(X_train)\n",
    "y_pred = rf.predict(X_test)\n",
    "\n",
    "# Print accuracy and classification report\n",
    "print(\"train accuracy: %.2f%%\" % (accuracy_score(y_trad, y_train) * 100))\n",
    "print(\"test accuracy: %.2f%%\" % (accuracy_score(y_pred, y_test) * 100))\n",
    "print(classification_report(y_test, y_pred, target_names=labels))"
   ]
  },
  {
   "cell_type": "markdown",
   "metadata": {},
   "source": [
    "### 2. TF-IDF + SGD"
   ]
  },
  {
   "cell_type": "code",
   "execution_count": 7,
   "metadata": {},
   "outputs": [
    {
     "name": "stdout",
     "output_type": "stream",
     "text": [
      "best parameters are: {'clf__alpha': 0.0001, 'clf__max_iter': 500, 'clf__penalty': 'elasticnet'}\n",
      "train accuracy: 99.44%\n",
      "test accuracy: 72.25%\n",
      "              precision    recall  f1-score   support\n",
      "\n",
      "    negative       0.69      0.80      0.74       165\n",
      "     neutral       0.18      0.11      0.13        19\n",
      "    positive       0.81      0.81      0.81       190\n",
      "   unrelated       0.20      0.08      0.11        26\n",
      "\n",
      "    accuracy                           0.72       400\n",
      "   macro avg       0.47      0.45      0.45       400\n",
      "weighted avg       0.69      0.72      0.70       400\n",
      "\n"
     ]
    }
   ],
   "source": [
    "from sklearn.linear_model import SGDClassifier\n",
    "\n",
    "# Define the pipeline with SGDClassifier\n",
    "pipeline = Pipeline(steps=[\n",
    "    ('vect', CountVectorizer()),\n",
    "    ('tfidf', TfidfTransformer()),\n",
    "    ('clf', SGDClassifier(loss='hinge', class_weight='balanced'))\n",
    "])\n",
    "\n",
    "# Define the parameters grid\n",
    "parameters = [{\n",
    "    'clf__alpha': [1e-4, 1e-3, 1e-2, 1e-1, 1, 10], # Regularization strength\n",
    "    'clf__max_iter': [500, 800, 1000, 2000, 3000], # Number of iterations\n",
    "    'clf__penalty': ['l2', 'l1', 'elasticnet'] # Type of regularization\n",
    "}]\n",
    "\n",
    "# Perform grid search\n",
    "sgd_cv = GridSearchCV(pipeline, parameters, cv=10)\n",
    "sgd_cv.fit(X_train, y_train)\n",
    "\n",
    "# Get the best parameters and accuracy\n",
    "best_params = sgd_cv.best_params_\n",
    "best_accuracy = sgd_cv.best_score_\n",
    "print(\"best parameters are: %s\" % best_params)\n",
    "\n",
    "# Train the final model using the best parameters\n",
    "sgd = Pipeline([\n",
    "    ('vect', CountVectorizer()),\n",
    "    ('tfidf', TfidfTransformer()),\n",
    "    ('clf', SGDClassifier(loss='hinge', \n",
    "                          alpha=best_params['clf__alpha'], \n",
    "                          max_iter=best_params['clf__max_iter'], \n",
    "                          penalty=best_params['clf__penalty'], \n",
    "                          class_weight='balanced'))\n",
    "])\n",
    "sgd = sgd.fit(X_train, y_train)\n",
    "\n",
    "# Predict on the training and testing set\n",
    "y_trad = sgd.predict(X_train)\n",
    "y_pred = sgd.predict(X_test)\n",
    "\n",
    "# Print accuracy and classification report\n",
    "print(\"train accuracy: %.2f%%\" % (accuracy_score(y_trad, y_train)*100))\n",
    "print(\"test accuracy: %.2f%%\" % (accuracy_score(y_pred, y_test)*100))\n",
    "print(classification_report(y_test, y_pred, target_names=labels))"
   ]
  },
  {
   "cell_type": "markdown",
   "metadata": {},
   "source": [
    "### 3. TF-IDF + LR"
   ]
  },
  {
   "cell_type": "code",
   "execution_count": 8,
   "metadata": {},
   "outputs": [
    {
     "name": "stdout",
     "output_type": "stream",
     "text": [
      "Best parameters are: {'clf__C': 10, 'clf__max_iter': 50, 'clf__solver': 'sag'}\n",
      "Train accuracy: 99.12%\n",
      "Test accuracy: 73.25%\n",
      "              precision    recall  f1-score   support\n",
      "\n",
      "    negative       0.72      0.82      0.77       165\n",
      "     neutral       0.06      0.05      0.05        19\n",
      "    positive       0.84      0.81      0.82       190\n",
      "   unrelated       0.33      0.15      0.21        26\n",
      "\n",
      "    accuracy                           0.73       400\n",
      "   macro avg       0.49      0.46      0.46       400\n",
      "weighted avg       0.72      0.73      0.72       400\n",
      "\n"
     ]
    }
   ],
   "source": [
    "from sklearn.linear_model import LogisticRegression\n",
    "\n",
    "# Define the pipeline with LogisticRegression\n",
    "pipeline = Pipeline(steps=[\n",
    "    ('vect', CountVectorizer()),\n",
    "    ('tfidf', TfidfTransformer()),\n",
    "    ('clf', LogisticRegression(class_weight='balanced'))\n",
    "])\n",
    "\n",
    "# Define the parameters grid\n",
    "parameters = [{\n",
    "    'clf__C': [0.1, 0.5, 1, 2, 5, 10, 20],  # Regularization strength\n",
    "    'clf__max_iter': [10, 20, 50, 100, 200],  # Number of iterations\n",
    "    'clf__solver': ['sag', 'saga', 'lbfgs', 'newton-cg']  # Different solvers\n",
    "}]\n",
    "\n",
    "# Perform grid search\n",
    "lr_cv = GridSearchCV(pipeline, parameters, cv=10)\n",
    "lr_cv.fit(X_train, y_train)\n",
    "\n",
    "# Get the best parameters and accuracy\n",
    "best_params = lr_cv.best_params_\n",
    "best_accuracy = lr_cv.best_score_\n",
    "print(\"Best parameters are: %s\" % best_params)\n",
    "\n",
    "# Train the final model using the best parameters\n",
    "lr = Pipeline([\n",
    "    ('vect', CountVectorizer()),\n",
    "    ('tfidf', TfidfTransformer()),\n",
    "    ('clf', LogisticRegression(C=best_params['clf__C'], \n",
    "                               max_iter=best_params['clf__max_iter'], \n",
    "                               solver=best_params['clf__solver'], \n",
    "                               class_weight='balanced'))\n",
    "])\n",
    "lr = lr.fit(X_train, y_train)\n",
    "\n",
    "# Predict on the training and testing set\n",
    "y_trad = lr.predict(X_train)\n",
    "y_pred = lr.predict(X_test)\n",
    "\n",
    "# Print accuracy and classification report\n",
    "print(\"Train accuracy: %.2f%%\" % (accuracy_score(y_trad, y_train) * 100))\n",
    "print(\"Test accuracy: %.2f%%\" % (accuracy_score(y_pred, y_test) * 100))\n",
    "print(classification_report(y_test, y_pred, target_names=labels))"
   ]
  }
 ],
 "metadata": {
  "kernelspec": {
   "display_name": "Python 3 (ipykernel)",
   "language": "python",
   "name": "python3"
  },
  "language_info": {
   "codemirror_mode": {
    "name": "ipython",
    "version": 3
   },
   "file_extension": ".py",
   "mimetype": "text/x-python",
   "name": "python",
   "nbconvert_exporter": "python",
   "pygments_lexer": "ipython3",
   "version": "3.10.6"
  }
 },
 "nbformat": 4,
 "nbformat_minor": 2
}
